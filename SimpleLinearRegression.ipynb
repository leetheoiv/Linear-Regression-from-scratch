{
 "cells": [
  {
   "cell_type": "markdown",
   "source": [
    "# Import Libraries"
   ],
   "metadata": {
    "collapsed": false
   },
   "id": "eb7022c7f8a9d763"
  },
  {
   "cell_type": "code",
   "execution_count": 3,
   "outputs": [],
   "source": [
    "import numpy as np\n",
    "import pandas as pd\n",
    "import matplotlib.pyplot as plt"
   ],
   "metadata": {
    "collapsed": true,
    "ExecuteTime": {
     "end_time": "2024-09-22T20:53:13.957750Z",
     "start_time": "2024-09-22T20:53:13.255182Z"
    }
   },
   "id": "initial_id"
  },
  {
   "cell_type": "markdown",
   "source": [
    "**Import Data**"
   ],
   "metadata": {
    "collapsed": false
   },
   "id": "ae080b8589f7ea1e"
  },
  {
   "cell_type": "code",
   "execution_count": 61,
   "outputs": [],
   "source": [
    "df = pd.read_csv('Walmart_Sales.csv')\n",
    "df.drop_duplicates(inplace=True)"
   ],
   "metadata": {
    "collapsed": false,
    "ExecuteTime": {
     "end_time": "2024-10-05T14:37:38.809249Z",
     "start_time": "2024-10-05T14:37:38.794210Z"
    }
   },
   "id": "5ca24710bd46f312"
  },
  {
   "cell_type": "code",
   "execution_count": 62,
   "outputs": [
    {
     "name": "stdout",
     "output_type": "stream",
     "text": [
      "<class 'pandas.core.frame.DataFrame'>\n",
      "RangeIndex: 6435 entries, 0 to 6434\n",
      "Data columns (total 8 columns):\n",
      " #   Column        Non-Null Count  Dtype  \n",
      "---  ------        --------------  -----  \n",
      " 0   Store         6435 non-null   int64  \n",
      " 1   Date          6435 non-null   object \n",
      " 2   Weekly_Sales  6435 non-null   float64\n",
      " 3   Holiday_Flag  6435 non-null   int64  \n",
      " 4   Temperature   6435 non-null   float64\n",
      " 5   Fuel_Price    6435 non-null   float64\n",
      " 6   CPI           6435 non-null   float64\n",
      " 7   Unemployment  6435 non-null   float64\n",
      "dtypes: float64(5), int64(2), object(1)\n",
      "memory usage: 402.3+ KB\n"
     ]
    }
   ],
   "source": [
    "df.info()"
   ],
   "metadata": {
    "collapsed": false,
    "ExecuteTime": {
     "end_time": "2024-10-05T14:37:39.977267Z",
     "start_time": "2024-10-05T14:37:39.974271Z"
    }
   },
   "id": "80bd69e72098c6c4"
  },
  {
   "cell_type": "code",
   "execution_count": 7,
   "outputs": [
    {
     "data": {
      "text/plain": "Store           0\nDate            0\nWeekly_Sales    0\nHoliday_Flag    0\nTemperature     0\nFuel_Price      0\nCPI             0\nUnemployment    0\ndtype: int64"
     },
     "execution_count": 7,
     "metadata": {},
     "output_type": "execute_result"
    }
   ],
   "source": [
    "df.isna().sum()"
   ],
   "metadata": {
    "collapsed": false,
    "ExecuteTime": {
     "end_time": "2024-09-22T20:55:19.506485Z",
     "start_time": "2024-09-22T20:55:19.493014Z"
    }
   },
   "id": "3575d40e23122987"
  },
  {
   "cell_type": "markdown",
   "source": [
    "**Data Normalization**\n",
    "Before Performing Linear Regression when using multiple features, you must scale the data otherwise one feature may be weighed heavily against others simply because they are on different scales and have different units.\n",
    "\n",
    "We can use mean normalization to do this:\n",
    "Z = (xi - mu)/std"
   ],
   "metadata": {
    "collapsed": false
   },
   "id": "f57f1cfacc187a89"
  },
  {
   "cell_type": "code",
   "execution_count": 155,
   "outputs": [],
   "source": [
    "def standardize(df,y):\n",
    "    df = df.copy().select_dtypes(exclude=['object']).drop(y,axis=1)\n",
    "    mu = df.mean().array\n",
    "    std = df.std().array\n",
    "    z = (df - mu)/std\n",
    "    return z"
   ],
   "metadata": {
    "collapsed": false,
    "ExecuteTime": {
     "end_time": "2024-10-05T16:39:16.810499Z",
     "start_time": "2024-10-05T16:39:16.803444Z"
    }
   },
   "id": "25f62751ae5593b8"
  },
  {
   "cell_type": "code",
   "execution_count": 163,
   "outputs": [],
   "source": [
    "\n",
    "def LinearRegression(x,m,b):\n",
    "\t\"\"\"\n",
    "\tLinear Regression function implemented from scratch\n",
    "\tx: is a matrix with shape p x m\n",
    "\t\"\"\"\n",
    "\ty = np.dot(x,m) + b # linear regression formula\n",
    "\treturn y\n",
    "\n",
    "\n",
    "def MSE(y,y_hat):\n",
    "\t\"\"\"\n",
    "\tCalculate the Mean Squared Error between actual values and predicted values.\n",
    "    Parameters:\n",
    "    y : numpy array of actual values\n",
    "    y_hat : numpy array of predicted values\n",
    "\n",
    "    Returns:\n",
    "    float : Mean Squared Error\n",
    "\t\"\"\"\n",
    "\tn = y.shape[0]\n",
    "\tresidual = 1/n * np.sum((y-y_hat)**2)\n",
    "\treturn residual\n",
    "\n",
    "def dE_dm(m,b,x,y,n):\n",
    "\t\"\"\"\n",
    "\tDifferentiate the MSE function with respect to the slope m\n",
    "\tx: is a matrix\n",
    "\ty: is a matrix\n",
    "\treturn: float value\n",
    "\t\"\"\"\n",
    "\n",
    "\ty_pred = np.dot(x,m) + b\n",
    "\n",
    "\tresidual = y_pred - y\n",
    "\treturn -1/n * np.sum(np.dot(x.T,residual))\n",
    "\n",
    "def dE_db(m,b,x,y,n):\n",
    "\t\"\"\"\n",
    "\tDifferentiate the MSE function with respect to the slope b intercept\n",
    "\tx: is a matrix\n",
    "\ty: is a matrix\n",
    "\treturn: float value\n",
    "\t\"\"\"\n",
    "\t\n",
    "\n",
    "\ty_pred = np.dot(x,m) + b\n",
    "\tresidual = y_pred - np.array(y)\n",
    "\treturn -1/n * np.sum(residual)\n",
    "\t\n",
    "\t\n",
    "def gradient_descent(x,y,iterations=20,learning_rate=0.0001):\n",
    "\t\"\"\"\n",
    "\tGradient Descent\n",
    "\t:param m: A matrix with shape p x 1\n",
    "\t:param b: A scalar with shape 1,\n",
    "\t:return: m,b\n",
    "\t\"\"\"\n",
    "\t\n",
    "\tx = np.array(x)\n",
    "\ty = np.array(y)\n",
    "\tprev_cost = 0\n",
    "\tm = np.zeros(x.shape[1])\n",
    "\tb = 0\n",
    "\tbest_m = m\n",
    "\tbest_b = b\n",
    "\tn = x.shape[0]\n",
    "\tfor i in range(1,iterations):\n",
    "\t\ty_hat = LinearRegression(x,m,b)\n",
    "\t\tcost = MSE(y,y_hat)\n",
    "\t\tprint(f\"Iteration {i} cost:\",cost)\n",
    "\t\tprint(f'm:{m},b{b}')\n",
    "\t\tprint(\"-------------------------\")\n",
    "\t\t# get the partial derivatives of m and b\n",
    "\t\td_dm = dE_dm(m,b,x,y,n)\n",
    "\t\td_db = dE_db(m,b,x,y,n)\n",
    "\t\t# update the variables\n",
    "\t\tm = m - learning_rate * d_dm\n",
    "\t\tb = b - learning_rate * d_db\n",
    "\n",
    "\t\tif cost < prev_cost:\n",
    "\t\t\tbest_m = m\n",
    "\t\t\tbest_b = b\n",
    "\t\tprev_cost = cost\n",
    "\treturn best_m,best_b\n",
    "\t\t"
   ],
   "metadata": {
    "collapsed": false,
    "ExecuteTime": {
     "end_time": "2024-10-05T16:44:49.473612Z",
     "start_time": "2024-10-05T16:44:49.466113Z"
    }
   },
   "id": "dd0bacbdaf13ac5d"
  },
  {
   "cell_type": "code",
   "execution_count": 165,
   "outputs": [
    {
     "name": "stdout",
     "output_type": "stream",
     "text": [
      "Iteration 1 cost: 73943.98164500008\n",
      "m:[0.],b0\n",
      "-------------------------\n",
      "Iteration 2 cost: 197423.50079741384\n",
      "m:[-0.00279497],b-2.1612634999999973\n",
      "-------------------------\n",
      "Iteration 3 cost: 530953.088037284\n",
      "m:[-0.00558994],b-5.713300062249991\n",
      "-------------------------\n",
      "Iteration 4 cost: 1431847.115301176\n",
      "m:[-0.00838491],b-11.551072152307874\n",
      "-------------------------\n",
      "Iteration 5 cost: 3865244.6634405325\n",
      "m:[-0.01117988],b-21.145450582318\n",
      "-------------------------\n",
      "Iteration 6 cost: 10438075.423915377\n",
      "m:[-0.01397486],b-36.91381153203964\n",
      "-------------------------\n",
      "Iteration 7 cost: 28191896.982623085\n",
      "m:[-0.01676983],b-62.82911275290711\n",
      "-------------------------\n",
      "Iteration 8 cost: 76146605.96275993\n",
      "m:[-0.0195648],b-105.4209103094028\n",
      "-------------------------\n",
      "Iteration 9 cost: 205676697.7290428\n",
      "m:[-0.02235977],b-175.42052959350337\n",
      "-------------------------\n",
      "Iteration 10 cost: 555549423.5587684\n",
      "m:[-0.02515474],b-290.46490388692285\n",
      "-------------------------\n",
      "Iteration 11 cost: 1500587930.430848\n",
      "m:[-0.02794971],b-479.5403330381576\n",
      "-------------------------\n",
      "Iteration 12 cost: 4053224115.7706113\n",
      "m:[-0.03074468],b-790.2858008482118\n",
      "-------------------------\n",
      "Iteration 13 cost: 10948129931.36651\n",
      "m:[-0.03353965],b-1300.995977194037\n",
      "-------------------------\n",
      "Iteration 14 cost: 29571906592.4864\n",
      "m:[-0.03633462],b-2140.348152018399\n",
      "-------------------------\n",
      "Iteration 15 cost: 79876445395.53107\n",
      "m:[-0.03912959],b-3519.8234513422362\n",
      "-------------------------\n",
      "Iteration 16 cost: 215753645294.05197\n",
      "m:[-0.04192457],b-5786.991105780964\n",
      "-------------------------\n",
      "Iteration 17 cost: 582770496889.2667\n",
      "m:[-0.04471954],b-9513.081145851005\n",
      "-------------------------\n",
      "Iteration 18 cost: 1574116870349.951\n",
      "m:[-0.04751451],b-15636.910126706116\n",
      "-------------------------\n",
      "Iteration 19 cost: 4251834876767.497\n",
      "m:[-0.05030948],b-25701.4230567415\n",
      "-------------------------\n"
     ]
    },
    {
     "data": {
      "text/plain": "(array([0.]), 0)"
     },
     "execution_count": 165,
     "metadata": {},
     "output_type": "execute_result"
    }
   ],
   "source": [
    "standardized_values = standardize(df,'Fuel_Price')\n",
    "x = standardized_values[['Weekly_Sales']]\n",
    "y = df[['Fuel_Price']]\n",
    "gradient_descent(x,y)"
   ],
   "metadata": {
    "collapsed": false,
    "ExecuteTime": {
     "end_time": "2024-10-05T16:59:11.804056Z",
     "start_time": "2024-10-05T16:59:04.671284Z"
    }
   },
   "id": "51ea640f9f26ea5"
  },
  {
   "cell_type": "markdown",
   "source": [
    "To make predicitions, I would need to convert the data back to its original form."
   ],
   "metadata": {
    "collapsed": false
   },
   "id": "ea6af1899cce89f1"
  }
 ],
 "metadata": {
  "kernelspec": {
   "display_name": "Python 3",
   "language": "python",
   "name": "python3"
  },
  "language_info": {
   "codemirror_mode": {
    "name": "ipython",
    "version": 2
   },
   "file_extension": ".py",
   "mimetype": "text/x-python",
   "name": "python",
   "nbconvert_exporter": "python",
   "pygments_lexer": "ipython2",
   "version": "2.7.6"
  }
 },
 "nbformat": 4,
 "nbformat_minor": 5
}
