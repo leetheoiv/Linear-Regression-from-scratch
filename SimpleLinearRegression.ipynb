{
 "cells": [
  {
   "cell_type": "markdown",
   "source": [
    "# Import Libraries"
   ],
   "metadata": {
    "collapsed": false
   },
   "id": "eb7022c7f8a9d763"
  },
  {
   "cell_type": "code",
   "execution_count": 3,
   "outputs": [],
   "source": [
    "import numpy as np\n",
    "import pandas as pd\n",
    "import matplotlib.pyplot as plt"
   ],
   "metadata": {
    "collapsed": true,
    "ExecuteTime": {
     "end_time": "2024-09-22T20:53:13.957750Z",
     "start_time": "2024-09-22T20:53:13.255182Z"
    }
   },
   "id": "initial_id"
  },
  {
   "cell_type": "markdown",
   "source": [
    "**Import Data**"
   ],
   "metadata": {
    "collapsed": false
   },
   "id": "ae080b8589f7ea1e"
  },
  {
   "cell_type": "code",
   "execution_count": 6,
   "outputs": [],
   "source": [
    "df = pd.read_csv('Walmart_Sales.csv')\n",
    "df.drop_duplicates(inplace=True)"
   ],
   "metadata": {
    "collapsed": false,
    "ExecuteTime": {
     "end_time": "2024-09-22T20:55:11.326934Z",
     "start_time": "2024-09-22T20:55:11.312362Z"
    }
   },
   "id": "5ca24710bd46f312"
  },
  {
   "cell_type": "code",
   "execution_count": 5,
   "outputs": [
    {
     "name": "stdout",
     "output_type": "stream",
     "text": [
      "<class 'pandas.core.frame.DataFrame'>\n",
      "RangeIndex: 6435 entries, 0 to 6434\n",
      "Data columns (total 8 columns):\n",
      " #   Column        Non-Null Count  Dtype  \n",
      "---  ------        --------------  -----  \n",
      " 0   Store         6435 non-null   int64  \n",
      " 1   Date          6435 non-null   object \n",
      " 2   Weekly_Sales  6435 non-null   float64\n",
      " 3   Holiday_Flag  6435 non-null   int64  \n",
      " 4   Temperature   6435 non-null   float64\n",
      " 5   Fuel_Price    6435 non-null   float64\n",
      " 6   CPI           6435 non-null   float64\n",
      " 7   Unemployment  6435 non-null   float64\n",
      "dtypes: float64(5), int64(2), object(1)\n",
      "memory usage: 402.3+ KB\n"
     ]
    }
   ],
   "source": [
    "df.info()"
   ],
   "metadata": {
    "collapsed": false,
    "ExecuteTime": {
     "end_time": "2024-09-22T20:54:54.588039Z",
     "start_time": "2024-09-22T20:54:54.578733Z"
    }
   },
   "id": "80bd69e72098c6c4"
  },
  {
   "cell_type": "code",
   "execution_count": 7,
   "outputs": [
    {
     "data": {
      "text/plain": "Store           0\nDate            0\nWeekly_Sales    0\nHoliday_Flag    0\nTemperature     0\nFuel_Price      0\nCPI             0\nUnemployment    0\ndtype: int64"
     },
     "execution_count": 7,
     "metadata": {},
     "output_type": "execute_result"
    }
   ],
   "source": [
    "df.isna().sum()"
   ],
   "metadata": {
    "collapsed": false,
    "ExecuteTime": {
     "end_time": "2024-09-22T20:55:19.506485Z",
     "start_time": "2024-09-22T20:55:19.493014Z"
    }
   },
   "id": "3575d40e23122987"
  },
  {
   "cell_type": "markdown",
   "source": [
    "**Data Normalization**\n",
    "Before Performing Linear Regression when using multiple features, you must scale the data otherwise one feature may be weighed heavily against others simply because they are on different scales and have different units.\n",
    "\n",
    "We can use mean normalization to do this:\n",
    "Z = (xi - mu)/std"
   ],
   "metadata": {
    "collapsed": false
   },
   "id": "f57f1cfacc187a89"
  },
  {
   "cell_type": "code",
   "execution_count": 35,
   "outputs": [],
   "source": [
    "def standardize(df):\n",
    "    df = df.copy().select_dtypes(exclude=['object']).drop('Weekly_Sales',axis=1)\n",
    "    mu = df.mean().array\n",
    "    std = df.std().array\n",
    "    z = (df - mu)/std\n",
    "    return z\n",
    "standardized_values = standardize(df)"
   ],
   "metadata": {
    "collapsed": false,
    "ExecuteTime": {
     "end_time": "2024-09-22T21:09:34.312719Z",
     "start_time": "2024-09-22T21:09:34.302267Z"
    }
   },
   "id": "25f62751ae5593b8"
  },
  {
   "cell_type": "code",
   "execution_count": 36,
   "outputs": [
    {
     "data": {
      "text/plain": "         Store  Holiday_Flag  Temperature  Fuel_Price       CPI  Unemployment\n0    -1.693847     -0.274183    -0.995058   -1.713667  1.004097      0.056959\n1    -1.693847      3.646633    -1.201077   -1.765952  1.007802      0.056959\n2    -1.693847     -0.274183    -1.124091   -1.840023  1.008996      0.056959\n3    -1.693847     -0.274183    -0.760848   -1.737631  1.009771      0.056959\n4    -1.693847     -0.274183    -0.767896   -1.598203  1.010546      0.056959\n...        ...           ...          ...         ...       ...           ...\n6430  1.693847     -0.274183     0.228584    1.390775  0.519229      0.365080\n6431  1.693847     -0.274183     0.229126    1.364632  0.523215      0.356018\n6432  1.693847     -0.274183    -0.335799    1.397311  0.527200      0.356018\n6433  1.693847     -0.274183    -0.227368    1.329776  0.527292      0.356018\n6434  1.693847     -0.274183    -0.098335    1.140241  0.526734      0.356018\n\n[6435 rows x 6 columns]",
      "text/html": "<div>\n<style scoped>\n    .dataframe tbody tr th:only-of-type {\n        vertical-align: middle;\n    }\n\n    .dataframe tbody tr th {\n        vertical-align: top;\n    }\n\n    .dataframe thead th {\n        text-align: right;\n    }\n</style>\n<table border=\"1\" class=\"dataframe\">\n  <thead>\n    <tr style=\"text-align: right;\">\n      <th></th>\n      <th>Store</th>\n      <th>Holiday_Flag</th>\n      <th>Temperature</th>\n      <th>Fuel_Price</th>\n      <th>CPI</th>\n      <th>Unemployment</th>\n    </tr>\n  </thead>\n  <tbody>\n    <tr>\n      <th>0</th>\n      <td>-1.693847</td>\n      <td>-0.274183</td>\n      <td>-0.995058</td>\n      <td>-1.713667</td>\n      <td>1.004097</td>\n      <td>0.056959</td>\n    </tr>\n    <tr>\n      <th>1</th>\n      <td>-1.693847</td>\n      <td>3.646633</td>\n      <td>-1.201077</td>\n      <td>-1.765952</td>\n      <td>1.007802</td>\n      <td>0.056959</td>\n    </tr>\n    <tr>\n      <th>2</th>\n      <td>-1.693847</td>\n      <td>-0.274183</td>\n      <td>-1.124091</td>\n      <td>-1.840023</td>\n      <td>1.008996</td>\n      <td>0.056959</td>\n    </tr>\n    <tr>\n      <th>3</th>\n      <td>-1.693847</td>\n      <td>-0.274183</td>\n      <td>-0.760848</td>\n      <td>-1.737631</td>\n      <td>1.009771</td>\n      <td>0.056959</td>\n    </tr>\n    <tr>\n      <th>4</th>\n      <td>-1.693847</td>\n      <td>-0.274183</td>\n      <td>-0.767896</td>\n      <td>-1.598203</td>\n      <td>1.010546</td>\n      <td>0.056959</td>\n    </tr>\n    <tr>\n      <th>...</th>\n      <td>...</td>\n      <td>...</td>\n      <td>...</td>\n      <td>...</td>\n      <td>...</td>\n      <td>...</td>\n    </tr>\n    <tr>\n      <th>6430</th>\n      <td>1.693847</td>\n      <td>-0.274183</td>\n      <td>0.228584</td>\n      <td>1.390775</td>\n      <td>0.519229</td>\n      <td>0.365080</td>\n    </tr>\n    <tr>\n      <th>6431</th>\n      <td>1.693847</td>\n      <td>-0.274183</td>\n      <td>0.229126</td>\n      <td>1.364632</td>\n      <td>0.523215</td>\n      <td>0.356018</td>\n    </tr>\n    <tr>\n      <th>6432</th>\n      <td>1.693847</td>\n      <td>-0.274183</td>\n      <td>-0.335799</td>\n      <td>1.397311</td>\n      <td>0.527200</td>\n      <td>0.356018</td>\n    </tr>\n    <tr>\n      <th>6433</th>\n      <td>1.693847</td>\n      <td>-0.274183</td>\n      <td>-0.227368</td>\n      <td>1.329776</td>\n      <td>0.527292</td>\n      <td>0.356018</td>\n    </tr>\n    <tr>\n      <th>6434</th>\n      <td>1.693847</td>\n      <td>-0.274183</td>\n      <td>-0.098335</td>\n      <td>1.140241</td>\n      <td>0.526734</td>\n      <td>0.356018</td>\n    </tr>\n  </tbody>\n</table>\n<p>6435 rows × 6 columns</p>\n</div>"
     },
     "execution_count": 36,
     "metadata": {},
     "output_type": "execute_result"
    }
   ],
   "source": [
    "standardized_values"
   ],
   "metadata": {
    "collapsed": false,
    "ExecuteTime": {
     "end_time": "2024-09-22T21:09:34.960586Z",
     "start_time": "2024-09-22T21:09:34.955160Z"
    }
   },
   "id": "4c6a205b4b1c0e21"
  },
  {
   "cell_type": "code",
   "execution_count": 40,
   "outputs": [
    {
     "ename": "IndentationError",
     "evalue": "unindent does not match any outer indentation level (<tokenize>, line 7)",
     "output_type": "error",
     "traceback": [
      "\u001B[0;36m  File \u001B[0;32m<tokenize>:7\u001B[0;36m\u001B[0m\n\u001B[0;31m    print(w)\u001B[0m\n\u001B[0m    ^\u001B[0m\n\u001B[0;31mIndentationError\u001B[0m\u001B[0;31m:\u001B[0m unindent does not match any outer indentation level\n"
     ]
    }
   ],
   "source": [
    "# Create the Linear Regression Function\n",
    "def LinearRegression(x):\n",
    "\t\"\"\"\n",
    "\tx: is a matrix with shape p x m\n",
    "\t\"\"\"\n",
    "\tw = np.random.rand(x.shape[1],1) # creates a weight vector with shape m x n\n",
    "\tb = np.random.rand(1,) # creates a bias scalar with shape 1,\n",
    "\ty = np.dot(x,w) + b # linear regression formula\n",
    "\treturn y\n",
    "\n",
    "# Create the cost function\n",
    "def MSE(y,y_hat):\n",
    "\t\"\"\"\n",
    "\tCalculate the Mean Squared Error between actual values and predicted values.\n",
    "\n",
    "    Parameters:\n",
    "    y : numpy array of actual values\n",
    "    y_hat : numpy array of predicted values\n",
    "\n",
    "    Returns:\n",
    "    float : Mean Squared Error\n",
    "\t\"\"\"\n",
    "\tn = y.shape[0]\n",
    "\tresidual = 1/n * np.sum((y-y_hat)**2)\n",
    "\treturn residual"
   ],
   "metadata": {
    "collapsed": false,
    "ExecuteTime": {
     "end_time": "2024-09-22T21:09:58.813020Z",
     "start_time": "2024-09-22T21:09:58.789118Z"
    }
   },
   "id": "dd0bacbdaf13ac5d"
  },
  {
   "cell_type": "code",
   "execution_count": 38,
   "outputs": [
    {
     "name": "stdout",
     "output_type": "stream",
     "text": [
      "[[0.50091942]\n",
      " [0.48893946]\n",
      " [0.47196785]\n",
      " ...\n",
      " [1.21372703]\n",
      " [1.19825291]\n",
      " [1.15482556]]\n"
     ]
    },
    {
     "name": "stderr",
     "output_type": "stream",
     "text": [
      "/Library/Frameworks/Python.framework/Versions/3.11/lib/python3.11/site-packages/numpy/core/fromnumeric.py:86: FutureWarning: The behavior of DataFrame.sum with axis=None is deprecated, in a future version this will reduce over both axes and return a scalar. To retain the old behavior, pass axis=0 (or do not pass axis)\n",
      "  return reduction(axis=axis, out=out, **passkwargs)\n"
     ]
    },
    {
     "data": {
      "text/plain": "Weekly_Sales    1.414594e+12\ndtype: float64"
     },
     "execution_count": 38,
     "metadata": {},
     "output_type": "execute_result"
    }
   ],
   "source": [
    "y_hat = LinearRegression(standardized_values[['Fuel_Price']])\n",
    "print(y_hat)\n",
    "y = df[['Weekly_Sales']]\n",
    "MSE(y,y_hat)"
   ],
   "metadata": {
    "collapsed": false,
    "ExecuteTime": {
     "end_time": "2024-09-22T21:09:36.708620Z",
     "start_time": "2024-09-22T21:09:36.703720Z"
    }
   },
   "id": "9faa9d1a6ddb28c0"
  },
  {
   "cell_type": "code",
   "execution_count": 27,
   "outputs": [],
   "source": [],
   "metadata": {
    "collapsed": false,
    "ExecuteTime": {
     "end_time": "2024-09-22T21:08:32.197754Z",
     "start_time": "2024-09-22T21:08:32.187558Z"
    }
   },
   "id": "99ee71bc4fc7b41d"
  },
  {
   "cell_type": "code",
   "execution_count": null,
   "outputs": [],
   "source": [],
   "metadata": {
    "collapsed": false
   },
   "id": "22c9323444a832f3"
  }
 ],
 "metadata": {
  "kernelspec": {
   "display_name": "Python 3",
   "language": "python",
   "name": "python3"
  },
  "language_info": {
   "codemirror_mode": {
    "name": "ipython",
    "version": 2
   },
   "file_extension": ".py",
   "mimetype": "text/x-python",
   "name": "python",
   "nbconvert_exporter": "python",
   "pygments_lexer": "ipython2",
   "version": "2.7.6"
  }
 },
 "nbformat": 4,
 "nbformat_minor": 5
}
